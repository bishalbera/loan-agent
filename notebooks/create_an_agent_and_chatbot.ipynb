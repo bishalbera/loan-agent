{
 "cells": [
  {
   "cell_type": "code",
   "execution_count": 2,
   "metadata": {},
   "outputs": [],
   "source": [
    "import requests\n",
    "from env import config\n",
    "\n",
    "MINDSDB_QUERY_ENDPOINT = \"http://127.0.0.1:47334/api/sql/query\"\n",
    "\n",
    "\n",
    "\n",
    "\n",
    "def mindsdb_query(MINDSDB_QUERY_ENDPOINT, sql_query):\n",
    "    headers = {\"Content-Type\": \"application/json\"}\n",
    "    try:\n",
    "        response = requests.post(MINDSDB_QUERY_ENDPOINT, json={\n",
    "                                 \"query\": sql_query}, headers=headers)\n",
    "        response.raise_for_status()\n",
    "        return response\n",
    "    except requests.exceptions.RequestException as e:\n",
    "        print(f\"An error occurred during the HTTP request: {str(e)}\")\n",
    "        return None"
   ]
  },
  {
   "cell_type": "code",
   "execution_count": 2,
   "metadata": {},
   "outputs": [],
   "source": [
    "def create_skill():\n",
    "    sql_query = f\"\"\"\"\n",
    "CREATE SKILL loan_agent.loan_skill\n",
    "    USING\n",
    "    type = 'text_to_sql',\n",
    "    database = 'test', \n",
    "    tables = ['loan_data'];\n",
    "\"\"\"\n",
    "\n",
    "    res = mindsdb_query(MINDSDB_QUERY_ENDPOINT, sql_query)\n",
    "    if res is not None:\n",
    "        if res.status_code == 200:\n",
    "            print(\"Skill created successfully\")\n",
    "        else:\n",
    "            print(\n",
    "                f\"Failed to create skill. HTTP status code: {res.status_code}\")\n",
    "    else:\n",
    "        print(\"Failed to create skill. No response received.\")"
   ]
  },
  {
   "cell_type": "code",
   "execution_count": 6,
   "metadata": {},
   "outputs": [],
   "source": [
    "API_KEY = config(\"API_KEY\")\n",
    "\n",
    "def create_model():\n",
    "    sql_query = f\"\"\"\n",
    "CREATE MODEL loan_agent.my_model\n",
    "PREDICT answer\n",
    "USING\n",
    "    engine = 'openai',\n",
    "    input_column = 'question',\n",
    "    api_key = '{API_KEY}', \n",
    "    model_name='gpt-4', \n",
    "    mode = 'conversational',\n",
    "    user_column = 'question' ,\n",
    "    assistant_column = 'answer',\n",
    "    max_tokens=100,\n",
    "    temperature=0,\n",
    "    verbose=True,\n",
    "    prompt_template='Answer the user input in a helpful way';\n",
    "\n",
    "\n",
    "\"\"\"\n",
    "    res = mindsdb_query(MINDSDB_QUERY_ENDPOINT, sql_query)\n",
    "    if res is not None:\n",
    "        if res.status_code == 200:\n",
    "            print(\"Model created successfully\")\n",
    "        else:\n",
    "            print(\n",
    "                f\"Failed to create model. HTTP status code: {res.status_code}\")\n",
    "    else:\n",
    "        print(\"Failed to create model. No response received.\")\n",
    "    "
   ]
  },
  {
   "cell_type": "code",
   "execution_count": 7,
   "metadata": {},
   "outputs": [
    {
     "name": "stdout",
     "output_type": "stream",
     "text": [
      "Model created successfully\n"
     ]
    }
   ],
   "source": [
    "create_model()"
   ]
  },
  {
   "cell_type": "code",
   "execution_count": 6,
   "metadata": {},
   "outputs": [],
   "source": [
    "def create_agent():\n",
    "    sql_query = f\"\"\"\"\n",
    "CREATE AGENT loan_agent.my_loan_agent\n",
    "USING\n",
    "   model = 'loan_agent.loan_approval_predictor',\n",
    "   skills = ['loan_agent.loan_skill']; \n",
    "\n",
    "\"\"\"\n",
    "    res = mindsdb_query(MINDSDB_QUERY_ENDPOINT, sql_query)\n",
    "    if res is not None:\n",
    "        if res.status_code == 200:\n",
    "            print(\"Agent created successfully\")\n",
    "        else:\n",
    "            print(\n",
    "                f\"Failed to create agent. HTTP status code: {res.status_code}\")\n",
    "    else:\n",
    "        print(\"Failed to create agent. No response received.\")"
   ]
  },
  {
   "cell_type": "code",
   "execution_count": 6,
   "metadata": {},
   "outputs": [],
   "source": [
    "def create_chatbot():\n",
    "    sql_query = f\"\"\"\n",
    "CREATE CHATBOT lendswift_chatbot\n",
    "USING\n",
    "    database = 'mindsdb_slack', \n",
    "    agent = 'my_loan_agent', \n",
    "    enable_dms = true;\n",
    "\n",
    "\"\"\"\n",
    "    res = mindsdb_query(MINDSDB_QUERY_ENDPOINT, sql_query)\n",
    "    if res is not None:\n",
    "        if res.status_code == 200:\n",
    "            print(\"Chatbot created successfully\")\n",
    "        else:\n",
    "            print(f\"Failed to create chatbot. HTTP status code: {res.status_code}\")\n",
    "        \n",
    "    else:\n",
    "        print(\"Failed to create chatbot. No response received.\")\n",
    "\n"
   ]
  },
  {
   "cell_type": "code",
   "execution_count": 7,
   "metadata": {},
   "outputs": [
    {
     "name": "stdout",
     "output_type": "stream",
     "text": [
      "Chatbot created successfully\n"
     ]
    }
   ],
   "source": [
    "create_chatbot()"
   ]
  },
  {
   "cell_type": "code",
   "execution_count": null,
   "metadata": {},
   "outputs": [],
   "source": []
  }
 ],
 "metadata": {
  "kernelspec": {
   "display_name": "venv",
   "language": "python",
   "name": "python3"
  },
  "language_info": {
   "codemirror_mode": {
    "name": "ipython",
    "version": 3
   },
   "file_extension": ".py",
   "mimetype": "text/x-python",
   "name": "python",
   "nbconvert_exporter": "python",
   "pygments_lexer": "ipython3",
   "version": "3.10.0"
  }
 },
 "nbformat": 4,
 "nbformat_minor": 2
}
