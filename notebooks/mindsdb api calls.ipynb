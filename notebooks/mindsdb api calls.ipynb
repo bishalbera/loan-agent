{
 "cells": [
  {
   "cell_type": "code",
   "execution_count": 3,
   "id": "98fc795e-669a-4a63-ae82-d38bd796a8b0",
   "metadata": {},
   "outputs": [],
   "source": [
    "import requests\n",
    "\n",
    "MINDSDB_QUERY_ENDPOINT = \"http://127.0.0.1:47334/api/sql/query\""
   ]
  },
  {
   "cell_type": "code",
   "execution_count": 4,
   "id": "d31cc8a2-aebd-475c-bd2e-1dbbedd77da5",
   "metadata": {},
   "outputs": [],
   "source": [
    "def mindsdb_query(MINDSDB_QUERY_ENDPOINT, sql_query):\n",
    "    headers = {\"Content-Type\": \"application/json\"}\n",
    "    return requests.post(MINDSDB_QUERY_ENDPOINT, json = {\"query\": sql_query}, headers = headers)\n",
    "   "
   ]
  },
  {
   "cell_type": "code",
   "execution_count": 5,
   "id": "b78adc70-ce5d-489d-8649-f23cce34234e",
   "metadata": {},
   "outputs": [],
   "source": [
    "import uuid\n",
    "\n",
    "def predict_loan_approval(\n",
    "    Email,\n",
    "    Gender = \"Female\",\n",
    "    Married = \"No\",\n",
    "    Dependents = \"0.0\",\n",
    "    Education = \"Graduate\",\n",
    "    Self_Employed = \"No\",\n",
    "    ApplicantIncome = \"2900\",\n",
    "    CoapplicantIncome = \"0.0\",\n",
    "    LoanAmount = \"71.0\",\n",
    "    Loan_Amount_Term = \"360.0\",\n",
    "    Credit_History = \"1.0\",\n",
    "    Property_Area = \"Rural\",\n",
    "    raw_request= False\n",
    "):\n",
    "    \n",
    "    message_id = str(uuid.uuid4())\n",
    "\n",
    "    # First, get the loan status\n",
    "\n",
    "    sql_query_1 = f\"\"\"\n",
    "    SELECT Loan_Status \n",
    "        FROM loan_agent.loan_approval_predictor \n",
    "        WHERE Gender = \"{Gender}\"\n",
    "        AND Married = \"{Married}\"\n",
    "        AND Dependents = \"{Dependents}\"\n",
    "        AND Education = \"{Education}\"\n",
    "        AND Self_Employed = \"{Self_Employed}\"\n",
    "        AND ApplicantIncome = \"{ApplicantIncome}\"\n",
    "        AND CoapplicantIncome = \"{CoapplicantIncome}\"\n",
    "        AND LoanAmount = \"{LoanAmount}\"\n",
    "        AND Loan_Amount_Term = \"{Loan_Amount_Term}\"\n",
    "        AND Credit_History = \"{Credit_History}\"\n",
    "        AND Property_Area = \"{Property_Area}\";\n",
    "        \"\"\"\n",
    "    response = mindsdb_query(MINDSDB_QUERY_ENDPOINT, sql_query_1)\n",
    "    loan_status = response.json()['data'][0][0]\n",
    "\n",
    "    subject = 'Loan Approved' if loan_status == 'Y' else 'Loan Rejected'\n",
    "    body = 'Congratulations! Your loan has been approved.' if loan_status == 'Y' else 'We regret to inform you that your loan application has been rejected.'\n",
    "\n",
    "\n",
    "    sql_query_2 = f\"\"\"\n",
    "    INSERT INTO my_gmail.emails (message_id, to_email, subject, body)\n",
    "     VALUES (\"{message_id}\", \"{Email}\", \"Loan approval status\", \"{body}\");\n",
    "     \"\"\"\n",
    "\n",
    "    sql_query = f\"\"\"\n",
    "    CREATE JOB loan_to_gmail (\n",
    "     {sql_query_1} {sql_query_2}\n",
    "    );\n",
    "    \"\"\"\n",
    "   \n",
    "\n",
    "   \n",
    "    response = mindsdb_query(MINDSDB_QUERY_ENDPOINT, sql_query)\n",
    "\n",
    "    return response\n",
    "\n",
    "    # print(response.raise_for_status())\n"
   ]
  },
  {
   "cell_type": "code",
   "execution_count": 7,
   "id": "cd5a4920-a2ce-4978-9be3-953af2244796",
   "metadata": {},
   "outputs": [],
   "source": [
    "query_res = predict_loan_approval(\n",
    "    Email=\"bishalbera2@gmail.com\",\n",
    "    Gender = \"Female\",\n",
    "    Married = \"No\",\n",
    "    Dependents = \"0.0\",\n",
    "    Education = \"Graduate\",\n",
    "    Self_Employed = \"No\",\n",
    "    ApplicantIncome = \"2900\",\n",
    "    CoapplicantIncome = \"0.0\",\n",
    "    LoanAmount = \"710.0\",\n",
    "    Loan_Amount_Term = \"360.0\",\n",
    "    Credit_History = \"1.0\",\n",
    "    Property_Area = \"Rural\",\n",
    "    raw_request= False\n",
    ")"
   ]
  },
  {
   "cell_type": "code",
   "execution_count": 8,
   "id": "0d705e54-2f45-49f3-80c6-83324a1a755d",
   "metadata": {},
   "outputs": [
    {
     "data": {
      "text/plain": [
       "<Response [200]>"
      ]
     },
     "execution_count": 8,
     "metadata": {},
     "output_type": "execute_result"
    }
   ],
   "source": [
    "query_res"
   ]
  },
  {
   "cell_type": "code",
   "execution_count": null,
   "id": "c1ba7ef3",
   "metadata": {},
   "outputs": [],
   "source": []
  }
 ],
 "metadata": {
  "kernelspec": {
   "display_name": "Python 3 (ipykernel)",
   "language": "python",
   "name": "python3"
  },
  "language_info": {
   "codemirror_mode": {
    "name": "ipython",
    "version": 3
   },
   "file_extension": ".py",
   "mimetype": "text/x-python",
   "name": "python",
   "nbconvert_exporter": "python",
   "pygments_lexer": "ipython3",
   "version": "3.11.4"
  }
 },
 "nbformat": 4,
 "nbformat_minor": 5
}
