{
 "cells": [
  {
   "cell_type": "code",
   "execution_count": 1,
   "id": "98fc795e-669a-4a63-ae82-d38bd796a8b0",
   "metadata": {},
   "outputs": [],
   "source": [
    "import requests\n",
    "\n",
    "MINDSDB_QUERY_ENDPOINT = \"http://127.0.0.1:47334/api/sql/query\""
   ]
  },
  {
   "cell_type": "code",
   "execution_count": null,
   "id": "d31cc8a2-aebd-475c-bd2e-1dbbedd77da5",
   "metadata": {},
   "outputs": [],
   "source": [
    "def mindsdb_query(MINDSDB_QUERY_ENDPOINT, sql_query):\n",
    "    headers = {\"Content-Type\": \"application/json\"}\n",
    "    return requests.post(MINDSDB_QUERY_ENDPOINT, json = {\"query\": sql_query}, headers = headers)\n",
    "   "
   ]
  }
 ],
 "metadata": {
  "kernelspec": {
   "display_name": "Python 3 (ipykernel)",
   "language": "python",
   "name": "python3"
  },
  "language_info": {
   "codemirror_mode": {
    "name": "ipython",
    "version": 3
   },
   "file_extension": ".py",
   "mimetype": "text/x-python",
   "name": "python",
   "nbconvert_exporter": "python",
   "pygments_lexer": "ipython3",
   "version": "3.11.4"
  }
 },
 "nbformat": 4,
 "nbformat_minor": 5
}
