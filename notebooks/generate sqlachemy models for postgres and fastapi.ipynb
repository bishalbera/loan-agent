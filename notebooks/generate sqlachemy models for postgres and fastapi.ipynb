{
 "cells": [
  {
   "cell_type": "code",
   "execution_count": 2,
   "metadata": {},
   "outputs": [],
   "source": [
    "from env import config\n",
    "from sqlalchemy import create_engine, Column, BigInteger, Integer, String\n",
    "from sqlalchemy.orm import sessionmaker, DeclarativeBase\n",
    "\n",
    "class Base(DeclarativeBase):\n",
    "    pass"
   ]
  },
  {
   "cell_type": "code",
   "execution_count": 3,
   "metadata": {},
   "outputs": [
    {
     "data": {
      "text/plain": [
       "True"
      ]
     },
     "execution_count": 3,
     "metadata": {},
     "output_type": "execute_result"
    }
   ],
   "source": [
    "DATABASE_URL = config(\"DATABASE_URL\")\n",
    "DATABASE_URL is not None"
   ]
  },
  {
   "cell_type": "code",
   "execution_count": 5,
   "metadata": {},
   "outputs": [],
   "source": [
    "engine = create_engine(DATABASE_URL)"
   ]
  },
  {
   "cell_type": "code",
   "execution_count": 6,
   "metadata": {},
   "outputs": [],
   "source": [
    "from sqlalchemy import Float\n",
    "\n",
    "\n",
    "class LoanPredictor(Base):\n",
    "\n",
    "\n",
    "    __tablename__ = \"loan_data\"\n",
    "\n",
    "    __table_args__ = {\"extend_existing\": True}\n",
    "    id = Column(\"Loan_ID\", String,\n",
    "                primary_key=True, nullable=False)\n",
    "    Gender = Column(String)\n",
    "    Married = Column(String)\n",
    "    Dependents = Column(Float)\n",
    "    Education = Column(String)\n",
    "    Self_Employed = Column(String)\n",
    "    ApplicantIncome = Column(Integer)\n",
    "    CoapplicantIncome = Column(Integer)\n",
    "    LoanAmount = Column(Integer)\n",
    "    Loan_Amount_Term = Column(Float)\n",
    "    Credit_History = Column(Float)\n",
    "    Property_Area = Column(String)\n",
    "    Loan_Status = Column(String)\n",
    "    Email = Column(String)"
   ]
  },
  {
   "cell_type": "code",
   "execution_count": null,
   "metadata": {},
   "outputs": [],
   "source": [
    "# Loan_ID               object\n",
    "# Gender                object\n",
    "# Married               object\n",
    "# Dependents           float64\n",
    "# Education             object\n",
    "# Self_Employed         object\n",
    "# ApplicantIncome        int64\n",
    "# CoapplicantIncome    float64\n",
    "# LoanAmount           float64\n",
    "# Loan_Amount_Term     float64\n",
    "# Credit_History       float64\n",
    "# Property_Area         object\n",
    "# Loan_Status           object\n",
    "# dtype: object"
   ]
  },
  {
   "cell_type": "code",
   "execution_count": 7,
   "metadata": {},
   "outputs": [
    {
     "name": "stdout",
     "output_type": "stream",
     "text": [
      "LP001003 4583\n",
      "LP001005 3000\n",
      "LP001006 2583\n",
      "LP001008 6000\n",
      "LP001011 5417\n",
      "LP001013 2333\n",
      "LP001014 3036\n",
      "LP001018 4006\n",
      "LP001020 12841\n",
      "LP001024 3200\n"
     ]
    }
   ],
   "source": [
    "SessionLocal = sessionmaker(bind=engine)\n",
    "session = SessionLocal()\n",
    "\n",
    "queryset = session.query(LoanPredictor).limit(10).all()\n",
    "for row in queryset:\n",
    "    print(row.id, row.ApplicantIncome)\n",
    "\n",
    "\n",
    "    session.close()"
   ]
  },
  {
   "cell_type": "code",
   "execution_count": 9,
   "metadata": {},
   "outputs": [],
   "source": [
    "from pydantic import BaseModel, EmailStr\n",
    "\n",
    "class LoanPredictorSchema(BaseModel):\n",
    "    id: str\n",
    "    Gender: str\n",
    "    Married: str\n",
    "    Dependents: str\n",
    "    Education: str\n",
    "    Self_Employed: str\n",
    "    ApplicantIncome: int\n",
    "    CoapplicantIncome: float\n",
    "    LoanAmount: float\n",
    "    Loan_Amount_Term: float\n",
    "    Credit_History: float\n",
    "    Property_Area: str\n",
    "    Loan_Status: str\n",
    "    Email: EmailStr\n",
    "    \n",
    "\n",
    "    class Config:\n",
    "        orm_mode = True\n",
    "\n",
    "    "
   ]
  },
  {
   "cell_type": "code",
   "execution_count": 10,
   "metadata": {},
   "outputs": [
    {
     "name": "stdout",
     "output_type": "stream",
     "text": [
      "{\"id\": \"LP001003\", \"Gender\": \"Male\", \"Married\": \"Yes\", \"Dependents\": \"1.0\", \"Education\": \"Graduate\", \"Self_Employed\": \"No\", \"ApplicantIncome\": 4583, \"CoapplicantIncome\": 1508.0, \"LoanAmount\": 128.0, \"Loan_Amount_Term\": 360.0, \"Credit_History\": 1.0, \"Property_Area\": \"Rural\", \"Loan_Status\": \"N\", \"Email\": \"biplabbera60@gmail.com\"} \n",
      "\n",
      "{\"id\": \"LP001005\", \"Gender\": \"Male\", \"Married\": \"Yes\", \"Dependents\": \"0.0\", \"Education\": \"Graduate\", \"Self_Employed\": \"Yes\", \"ApplicantIncome\": 3000, \"CoapplicantIncome\": 0.0, \"LoanAmount\": 66.0, \"Loan_Amount_Term\": 360.0, \"Credit_History\": 1.0, \"Property_Area\": \"Urban\", \"Loan_Status\": \"Y\", \"Email\": \"biplabbera60@gmail.com\"} \n",
      "\n",
      "{\"id\": \"LP001006\", \"Gender\": \"Male\", \"Married\": \"Yes\", \"Dependents\": \"0.0\", \"Education\": \"Not Graduate\", \"Self_Employed\": \"No\", \"ApplicantIncome\": 2583, \"CoapplicantIncome\": 2358.0, \"LoanAmount\": 120.0, \"Loan_Amount_Term\": 360.0, \"Credit_History\": 1.0, \"Property_Area\": \"Urban\", \"Loan_Status\": \"Y\", \"Email\": \"biplabbera60@gmail.com\"} \n",
      "\n",
      "{\"id\": \"LP001008\", \"Gender\": \"Male\", \"Married\": \"No\", \"Dependents\": \"0.0\", \"Education\": \"Graduate\", \"Self_Employed\": \"No\", \"ApplicantIncome\": 6000, \"CoapplicantIncome\": 0.0, \"LoanAmount\": 141.0, \"Loan_Amount_Term\": 360.0, \"Credit_History\": 1.0, \"Property_Area\": \"Urban\", \"Loan_Status\": \"Y\", \"Email\": \"biplabbera60@gmail.com\"} \n",
      "\n",
      "{\"id\": \"LP001011\", \"Gender\": \"Male\", \"Married\": \"Yes\", \"Dependents\": \"2.0\", \"Education\": \"Graduate\", \"Self_Employed\": \"Yes\", \"ApplicantIncome\": 5417, \"CoapplicantIncome\": 4196.0, \"LoanAmount\": 267.0, \"Loan_Amount_Term\": 360.0, \"Credit_History\": 1.0, \"Property_Area\": \"Urban\", \"Loan_Status\": \"Y\", \"Email\": \"biplabbera60@gmail.com\"} \n",
      "\n",
      "{\"id\": \"LP001013\", \"Gender\": \"Male\", \"Married\": \"Yes\", \"Dependents\": \"0.0\", \"Education\": \"Not Graduate\", \"Self_Employed\": \"No\", \"ApplicantIncome\": 2333, \"CoapplicantIncome\": 1516.0, \"LoanAmount\": 95.0, \"Loan_Amount_Term\": 360.0, \"Credit_History\": 1.0, \"Property_Area\": \"Urban\", \"Loan_Status\": \"Y\", \"Email\": \"biplabbera60@gmail.com\"} \n",
      "\n",
      "{\"id\": \"LP001014\", \"Gender\": \"Male\", \"Married\": \"Yes\", \"Dependents\": \"3.0\", \"Education\": \"Graduate\", \"Self_Employed\": \"No\", \"ApplicantIncome\": 3036, \"CoapplicantIncome\": 2504.0, \"LoanAmount\": 158.0, \"Loan_Amount_Term\": 360.0, \"Credit_History\": 0.0, \"Property_Area\": \"Semiurban\", \"Loan_Status\": \"N\", \"Email\": \"biplabbera60@gmail.com\"} \n",
      "\n",
      "{\"id\": \"LP001018\", \"Gender\": \"Male\", \"Married\": \"Yes\", \"Dependents\": \"2.0\", \"Education\": \"Graduate\", \"Self_Employed\": \"No\", \"ApplicantIncome\": 4006, \"CoapplicantIncome\": 1526.0, \"LoanAmount\": 168.0, \"Loan_Amount_Term\": 360.0, \"Credit_History\": 1.0, \"Property_Area\": \"Urban\", \"Loan_Status\": \"Y\", \"Email\": \"biplabbera60@gmail.com\"} \n",
      "\n",
      "{\"id\": \"LP001020\", \"Gender\": \"Male\", \"Married\": \"Yes\", \"Dependents\": \"1.0\", \"Education\": \"Graduate\", \"Self_Employed\": \"No\", \"ApplicantIncome\": 12841, \"CoapplicantIncome\": 10968.0, \"LoanAmount\": 349.0, \"Loan_Amount_Term\": 360.0, \"Credit_History\": 1.0, \"Property_Area\": \"Semiurban\", \"Loan_Status\": \"N\", \"Email\": \"biplabbera60@gmail.com\"} \n",
      "\n",
      "{\"id\": \"LP001024\", \"Gender\": \"Male\", \"Married\": \"Yes\", \"Dependents\": \"2.0\", \"Education\": \"Graduate\", \"Self_Employed\": \"No\", \"ApplicantIncome\": 3200, \"CoapplicantIncome\": 700.0, \"LoanAmount\": 70.0, \"Loan_Amount_Term\": 360.0, \"Credit_History\": 1.0, \"Property_Area\": \"Urban\", \"Loan_Status\": \"Y\", \"Email\": \"biplabbera60@gmail.com\"} \n",
      "\n"
     ]
    }
   ],
   "source": [
    "session = SessionLocal()\n",
    "queryset = session.query(LoanPredictor).limit(10).all()\n",
    "for row_value in queryset:\n",
    "    data = LoanPredictorSchema.from_orm(row_value)\n",
    "    print(data.json(), '\\n')\n",
    "    \n",
    "\n",
    "    session.close()"
   ]
  },
  {
   "cell_type": "code",
   "execution_count": null,
   "metadata": {},
   "outputs": [],
   "source": []
  }
 ],
 "metadata": {
  "kernelspec": {
   "display_name": "venv",
   "language": "python",
   "name": "python3"
  },
  "language_info": {
   "codemirror_mode": {
    "name": "ipython",
    "version": 3
   },
   "file_extension": ".py",
   "mimetype": "text/x-python",
   "name": "python",
   "nbconvert_exporter": "python",
   "pygments_lexer": "ipython3",
   "version": "3.11.4"
  }
 },
 "nbformat": 4,
 "nbformat_minor": 2
}
