{
 "cells": [
  {
   "cell_type": "code",
   "execution_count": 1,
   "metadata": {},
   "outputs": [],
   "source": [
    "from env import config\n",
    "from sqlalchemy import create_engine, Column, BigInteger, Integer, String\n",
    "from sqlalchemy.orm import sessionmaker, DeclarativeBase\n",
    "\n",
    "class Base(DeclarativeBase):\n",
    "    pass"
   ]
  },
  {
   "cell_type": "code",
   "execution_count": 2,
   "metadata": {},
   "outputs": [
    {
     "data": {
      "text/plain": [
       "True"
      ]
     },
     "execution_count": 2,
     "metadata": {},
     "output_type": "execute_result"
    }
   ],
   "source": [
    "DATABASE_URL = config(\"DATABASE_URL\")\n",
    "DATABASE_URL is not None"
   ]
  },
  {
   "cell_type": "code",
   "execution_count": 3,
   "metadata": {},
   "outputs": [],
   "source": [
    "engine = create_engine(DATABASE_URL)"
   ]
  },
  {
   "cell_type": "code",
   "execution_count": null,
   "metadata": {},
   "outputs": [],
   "source": [
    "from sqlalchemy import Float\n",
    "\n",
    "\n",
    "class LoanPredictor(Base):\n",
    "\n",
    "    __tablename__ = \"loan_data\"\n",
    "    __table_args__ = {\"extend_existing\": True}\n",
    "    id = Column(Integer, autoincrement= True,  primary_key=True, nullable= False)\n",
    "    Gender = Column(String)\n",
    "    Married = Column(String)\n",
    "    Dependents = Column(Float)\n",
    "    Education = Column(String)\n",
    "    Self_Employed = Column(String)\n",
    "    ApplicantIncome = Column(Integer)\n",
    "    CoapplicantIncome = Column(Integer)\n",
    "    LoanAmount = Column(Integer)\n",
    "    Loan_Amount_Term = Column(Float)\n",
    "    Credit_History = Column(Float)\n",
    "    Property_Area = Column(String)\n",
    "    Loan_Status = Column(String)"
   ]
  },
  {
   "cell_type": "code",
   "execution_count": null,
   "metadata": {},
   "outputs": [],
   "source": [
    "# Loan_ID               object\n",
    "# Gender                object\n",
    "# Married               object\n",
    "# Dependents           float64\n",
    "# Education             object\n",
    "# Self_Employed         object\n",
    "# ApplicantIncome        int64\n",
    "# CoapplicantIncome    float64\n",
    "# LoanAmount           float64\n",
    "# Loan_Amount_Term     float64\n",
    "# Credit_History       float64\n",
    "# Property_Area         object\n",
    "# Loan_Status           object\n",
    "# dtype: object"
   ]
  }
 ],
 "metadata": {
  "kernelspec": {
   "display_name": "venv",
   "language": "python",
   "name": "python3"
  },
  "language_info": {
   "codemirror_mode": {
    "name": "ipython",
    "version": 3
   },
   "file_extension": ".py",
   "mimetype": "text/x-python",
   "name": "python",
   "nbconvert_exporter": "python",
   "pygments_lexer": "ipython3",
   "version": "3.11.4"
  }
 },
 "nbformat": 4,
 "nbformat_minor": 2
}
