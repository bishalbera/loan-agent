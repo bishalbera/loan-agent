{
 "cells": [
  {
   "cell_type": "code",
   "execution_count": null,
   "id": "a2a946e1-9dd1-4b47-86d2-5846737b6c70",
   "metadata": {},
   "outputs": [],
   "source": [
    "from env import config"
   ]
  },
  {
   "cell_type": "code",
   "execution_count": null,
   "id": "e07d84ca-770f-4d0a-bb56-9b6c59163d07",
   "metadata": {},
   "outputs": [],
   "source": [
    "DATABASE_URL= config(\"DATABASE_URL\", default= None)"
   ]
  },
  {
   "cell_type": "code",
   "execution_count": 1,
   "id": "4c30af02-6b93-4e82-a53f-413d979d8db6",
   "metadata": {},
   "outputs": [
    {
     "ename": "NameError",
     "evalue": "name 'DATABASE_URL' is not defined",
     "output_type": "error",
     "traceback": [
      "\u001b[1;31m---------------------------------------------------------------------------\u001b[0m",
      "\u001b[1;31mNameError\u001b[0m                                 Traceback (most recent call last)",
      "Cell \u001b[1;32mIn[1], line 1\u001b[0m\n\u001b[1;32m----> 1\u001b[0m \u001b[43mDATABASE_URL\u001b[49m \u001b[38;5;129;01mis\u001b[39;00m \u001b[38;5;129;01mnot\u001b[39;00m \u001b[38;5;28;01mNone\u001b[39;00m\n",
      "\u001b[1;31mNameError\u001b[0m: name 'DATABASE_URL' is not defined"
     ]
    }
   ],
   "source": [
    "DATABASE_URL is not None"
   ]
  },
  {
   "cell_type": "code",
   "execution_count": null,
   "id": "d9bf06b1-1cec-4db4-8bee-ea040e0d5c70",
   "metadata": {},
   "outputs": [],
   "source": []
  }
 ],
 "metadata": {
  "kernelspec": {
   "display_name": "Python 3 (ipykernel)",
   "language": "python",
   "name": "python3"
  },
  "language_info": {
   "codemirror_mode": {
    "name": "ipython",
    "version": 3
   },
   "file_extension": ".py",
   "mimetype": "text/x-python",
   "name": "python",
   "nbconvert_exporter": "python",
   "pygments_lexer": "ipython3",
   "version": "3.11.4"
  }
 },
 "nbformat": 4,
 "nbformat_minor": 5
}
