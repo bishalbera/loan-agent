{
 "cells": [
  {
   "cell_type": "code",
   "execution_count": 1,
   "id": "214c62c9-06a2-484e-9e93-4d3bebb5d2bd",
   "metadata": {},
   "outputs": [],
   "source": [
    "import requests\n",
    "\n",
    "train_model = \"loan_approval_predictor\"\n",
    "url = \"http://127.0.0.1:47334/api/sql/query\""
   ]
  },
  {
   "cell_type": "code",
   "execution_count": 2,
   "id": "3500a3d0-1b92-4fad-9747-1e24df997120",
   "metadata": {},
   "outputs": [],
   "source": [
    "sql_command_1 = f\"\"\"DROP MODEL {train_model};\"\"\"\n",
    "\n",
    "sql_command_2 = f\"\"\"\n",
    "CREATE MODEL mindsdb.{train_model}\n",
    "FROM test (\n",
    "SELECT * FROM loan_data\n",
    ")\n",
    "PREDICT Loan_Status;\n",
    "\"\"\"\n",
    "\n",
    "commands_to_run = [sql_command_1, sql_command_2]"
   ]
  },
  {
   "cell_type": "code",
   "execution_count": 3,
   "id": "d767dc96-de97-42b8-8b26-e2065c9c1036",
   "metadata": {},
   "outputs": [],
   "source": [
    "def mindsdb_query(url, sql_query):\n",
    "    headers = {\"Content-Type\": \"application/json\"}\n",
    "    return requests.post(url, json = {\"query\": sql_query}, headers = headers)"
   ]
  },
  {
   "cell_type": "code",
   "execution_count": 4,
   "id": "77da68bd-cec9-42c9-a5dd-ea50b6e5a3a5",
   "metadata": {},
   "outputs": [],
   "source": [
    "for cmd in commands_to_run:\n",
    "    mindsdb_query(url, cmd)"
   ]
  },
  {
   "cell_type": "code",
   "execution_count": 6,
   "id": "c557e9a3-539e-42fc-b8b1-a368e7d2ea62",
   "metadata": {},
   "outputs": [
    {
     "name": "stdout",
     "output_type": "stream",
     "text": [
      "TABLES ['info', 'features', 'model', 'jsonai']\n",
      "NAME loan_approval_predictor\n",
      "ENGINE lightwood\n",
      "PROJECT mindsdb\n",
      "ACTIVE True\n",
      "VERSION 1\n",
      "STATUS complete\n",
      "ACCURACY 0.767\n",
      "PREDICT Loan_Status\n",
      "UPDATE_STATUS up_to_date\n",
      "MINDSDB_VERSION 23.11.1.0\n",
      "ERROR None\n",
      "SELECT_DATA_QUERY SELECT * FROM loan_data\n",
      "TRAINING_OPTIONS {'__mdb_sql_task': None, 'target': 'Loan_Status'}\n",
      "TAG None\n"
     ]
    }
   ],
   "source": [
    "sql_command_3 = f\"DESCRIBE PREDICTOR mindsdb.{train_model};\"\n",
    "res = mindsdb_query(url, sql_command_3)\n",
    "\n",
    "response_data = res.json()\n",
    "column_names = response_data['column_names']\n",
    "\n",
    "dataset = response_data['data'][0]\n",
    "\n",
    "for i, col in enumerate(column_names):\n",
    "    print(col, dataset[i])"
   ]
  },
  {
   "cell_type": "code",
   "execution_count": null,
   "id": "c797a061-fdd1-453a-9657-cb1392a5709b",
   "metadata": {},
   "outputs": [],
   "source": []
  }
 ],
 "metadata": {
  "kernelspec": {
   "display_name": "Python 3 (ipykernel)",
   "language": "python",
   "name": "python3"
  },
  "language_info": {
   "codemirror_mode": {
    "name": "ipython",
    "version": 3
   },
   "file_extension": ".py",
   "mimetype": "text/x-python",
   "name": "python",
   "nbconvert_exporter": "python",
   "pygments_lexer": "ipython3",
   "version": "3.11.4"
  }
 },
 "nbformat": 4,
 "nbformat_minor": 5
}
